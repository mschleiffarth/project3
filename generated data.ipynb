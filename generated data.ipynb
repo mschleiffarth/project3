{
 "cells": [
  {
   "cell_type": "code",
   "execution_count": 36,
   "metadata": {},
   "outputs": [],
   "source": [
    "import pandas as pd\n",
    "import random "
   ]
  },
  {
   "cell_type": "code",
   "execution_count": 51,
   "metadata": {},
   "outputs": [
    {
     "data": {
      "text/plain": [
       "array([2, 3, 1, 4], dtype=int64)"
      ]
     },
     "execution_count": 51,
     "metadata": {},
     "output_type": "execute_result"
    }
   ],
   "source": [
    "pd.options.display.max_columns = None\n",
    "pd.options.display.max_rows = None\n",
    "df = pd.read_csv('combined-dummies.csv')\n",
    "df.head()\n",
    "#get ages\n",
    "df['studytime'].unique()"
   ]
  },
  {
   "cell_type": "code",
   "execution_count": 54,
   "metadata": {},
   "outputs": [],
   "source": [
    "row_count = range(0,1000)\n",
    "\n",
    "\n",
    "age = random.randrange(15, 22, 1)\n",
    "Dalc = random.randrange(1, 5, 1)\n",
    "Walc = random.randrange(1, 5, 1)\n",
    "Medu = random.randrange(1, 4, 1)\n",
    "Fedu = random.randrange(1, 4, 1)\n",
    "studytime = random.randrange(1, 4, 1)\n",
    "sex_F = random.choice([1, 0])\n",
    "if sex_F == 0:\n",
    "    sex_M = 1\n",
    "else:\n",
    "    sex_M = 0\n",
    "\n",
    "romantic_no = random.choice([1, 0])\n",
    "if romantic_no == 0:\n",
    "    romantic_yes = 1\n",
    "else:\n",
    "    romantic_yes = 0    \n",
    "    \n",
    "data = [[age, Dalc, Walc, Medu, Fedu, studytime, sex_F, sex_M, romantic_no, romantic_yes]]\n",
    "    \n",
    "df = pd.DataFrame(data, columns = ['age', 'Dalc', 'Walc', 'Medu', 'Fedu', 'studytime', 'sex_F', 'sex_M', 'romantic_no', 'romantic_yes'])\n",
    "\n",
    "for i in row_count:    \n",
    "    age = random.randrange(15, 22, 1)\n",
    "    Dalc = random.randrange(1, 5, 1)\n",
    "    Walc = random.randrange(1, 5, 1)\n",
    "    Medu = random.randrange(1, 4, 1)\n",
    "    Fedu = random.randrange(1, 4, 1)\n",
    "    studytime = random.randrange(1, 4, 1)\n",
    "    sex_F = random.choice([1, 0])\n",
    "    if sex_F == 0:\n",
    "        sex_M = 1\n",
    "    else:\n",
    "        sex_M = 0\n",
    "        \n",
    "    if romantic_no == 0:\n",
    "        romantic_yes = 1\n",
    "    else:\n",
    "        romantic_yes = 0    \n",
    "    \n",
    "    data = [[age, Dalc, Walc, Medu, Fedu, studytime, sex_F, sex_M, romantic_no, romantic_yes]]\n",
    "    df2 = pd.DataFrame(data, columns = ['age', 'Dalc', 'Walc', 'Medu', 'Fedu', 'studytime', 'sex_F', 'sex_M', 'romantic_no', 'romantic_yes'])\n",
    "    df.append(df2, ignore_index = True)\n",
    "\n",
    "\n",
    "\n",
    "df.to_csv('generated.csv', index=False) \n",
    "  \n",
    "\n"
   ]
  },
  {
   "cell_type": "code",
   "execution_count": null,
   "metadata": {},
   "outputs": [],
   "source": []
  }
 ],
 "metadata": {
  "kernelspec": {
   "display_name": "Python 3",
   "language": "python",
   "name": "python3"
  },
  "language_info": {
   "codemirror_mode": {
    "name": "ipython",
    "version": 3
   },
   "file_extension": ".py",
   "mimetype": "text/x-python",
   "name": "python",
   "nbconvert_exporter": "python",
   "pygments_lexer": "ipython3",
   "version": "3.6.9"
  }
 },
 "nbformat": 4,
 "nbformat_minor": 2
}
